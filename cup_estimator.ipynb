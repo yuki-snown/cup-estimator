{
  "nbformat": 4,
  "nbformat_minor": 0,
  "metadata": {
    "colab": {
      "name": "cup_estimator.ipynb",
      "provenance": [],
      "collapsed_sections": []
    },
    "kernelspec": {
      "name": "python3",
      "display_name": "Python 3"
    },
    "language_info": {
      "name": "python"
    },
    "accelerator": "GPU",
    "gpuClass": "standard"
  },
  "cells": [
    {
      "cell_type": "code",
      "source": [
        "import pandas as pd\n",
        "\n",
        "df = pd.read_csv('dataset.tsv', names=['size', 'width', 'height', 'data'], sep='\\t')\n",
        "df.head()"
      ],
      "metadata": {
        "colab": {
          "base_uri": "https://localhost:8080/",
          "height": 206
        },
        "id": "ROsose7tXmq9",
        "outputId": "2eeb39a9-a8cb-4a25-d042-604d47d0c7a7"
      },
      "execution_count": null,
      "outputs": [
        {
          "output_type": "execute_result",
          "data": {
            "text/plain": [
              "  size  width  height                                               data\n",
              "0    a     60      60  /9j/4AAQSkZJRgABAQAAAQABAAD/2wBDAAgGBgcGBQgHBw...\n",
              "1    a     60      60  /9j/4AAQSkZJRgABAQAAAQABAAD/2wBDAAgGBgcGBQgHBw...\n",
              "2    a     60      60  /9j/4AAQSkZJRgABAQAAAQABAAD/2wBDAAgGBgcGBQgHBw...\n",
              "3    a     60      60  /9j/4AAQSkZJRgABAQAAAQABAAD/2wBDAAgGBgcGBQgHBw...\n",
              "4    a     60      60  /9j/4AAQSkZJRgABAQAAAQABAAD/2wBDAAgGBgcGBQgHBw..."
            ],
            "text/html": [
              "\n",
              "  <div id=\"df-23a7b2a4-9caf-4f11-adfd-ead2f351d676\">\n",
              "    <div class=\"colab-df-container\">\n",
              "      <div>\n",
              "<style scoped>\n",
              "    .dataframe tbody tr th:only-of-type {\n",
              "        vertical-align: middle;\n",
              "    }\n",
              "\n",
              "    .dataframe tbody tr th {\n",
              "        vertical-align: top;\n",
              "    }\n",
              "\n",
              "    .dataframe thead th {\n",
              "        text-align: right;\n",
              "    }\n",
              "</style>\n",
              "<table border=\"1\" class=\"dataframe\">\n",
              "  <thead>\n",
              "    <tr style=\"text-align: right;\">\n",
              "      <th></th>\n",
              "      <th>size</th>\n",
              "      <th>width</th>\n",
              "      <th>height</th>\n",
              "      <th>data</th>\n",
              "    </tr>\n",
              "  </thead>\n",
              "  <tbody>\n",
              "    <tr>\n",
              "      <th>0</th>\n",
              "      <td>a</td>\n",
              "      <td>60</td>\n",
              "      <td>60</td>\n",
              "      <td>/9j/4AAQSkZJRgABAQAAAQABAAD/2wBDAAgGBgcGBQgHBw...</td>\n",
              "    </tr>\n",
              "    <tr>\n",
              "      <th>1</th>\n",
              "      <td>a</td>\n",
              "      <td>60</td>\n",
              "      <td>60</td>\n",
              "      <td>/9j/4AAQSkZJRgABAQAAAQABAAD/2wBDAAgGBgcGBQgHBw...</td>\n",
              "    </tr>\n",
              "    <tr>\n",
              "      <th>2</th>\n",
              "      <td>a</td>\n",
              "      <td>60</td>\n",
              "      <td>60</td>\n",
              "      <td>/9j/4AAQSkZJRgABAQAAAQABAAD/2wBDAAgGBgcGBQgHBw...</td>\n",
              "    </tr>\n",
              "    <tr>\n",
              "      <th>3</th>\n",
              "      <td>a</td>\n",
              "      <td>60</td>\n",
              "      <td>60</td>\n",
              "      <td>/9j/4AAQSkZJRgABAQAAAQABAAD/2wBDAAgGBgcGBQgHBw...</td>\n",
              "    </tr>\n",
              "    <tr>\n",
              "      <th>4</th>\n",
              "      <td>a</td>\n",
              "      <td>60</td>\n",
              "      <td>60</td>\n",
              "      <td>/9j/4AAQSkZJRgABAQAAAQABAAD/2wBDAAgGBgcGBQgHBw...</td>\n",
              "    </tr>\n",
              "  </tbody>\n",
              "</table>\n",
              "</div>\n",
              "      <button class=\"colab-df-convert\" onclick=\"convertToInteractive('df-23a7b2a4-9caf-4f11-adfd-ead2f351d676')\"\n",
              "              title=\"Convert this dataframe to an interactive table.\"\n",
              "              style=\"display:none;\">\n",
              "        \n",
              "  <svg xmlns=\"http://www.w3.org/2000/svg\" height=\"24px\"viewBox=\"0 0 24 24\"\n",
              "       width=\"24px\">\n",
              "    <path d=\"M0 0h24v24H0V0z\" fill=\"none\"/>\n",
              "    <path d=\"M18.56 5.44l.94 2.06.94-2.06 2.06-.94-2.06-.94-.94-2.06-.94 2.06-2.06.94zm-11 1L8.5 8.5l.94-2.06 2.06-.94-2.06-.94L8.5 2.5l-.94 2.06-2.06.94zm10 10l.94 2.06.94-2.06 2.06-.94-2.06-.94-.94-2.06-.94 2.06-2.06.94z\"/><path d=\"M17.41 7.96l-1.37-1.37c-.4-.4-.92-.59-1.43-.59-.52 0-1.04.2-1.43.59L10.3 9.45l-7.72 7.72c-.78.78-.78 2.05 0 2.83L4 21.41c.39.39.9.59 1.41.59.51 0 1.02-.2 1.41-.59l7.78-7.78 2.81-2.81c.8-.78.8-2.07 0-2.86zM5.41 20L4 18.59l7.72-7.72 1.47 1.35L5.41 20z\"/>\n",
              "  </svg>\n",
              "      </button>\n",
              "      \n",
              "  <style>\n",
              "    .colab-df-container {\n",
              "      display:flex;\n",
              "      flex-wrap:wrap;\n",
              "      gap: 12px;\n",
              "    }\n",
              "\n",
              "    .colab-df-convert {\n",
              "      background-color: #E8F0FE;\n",
              "      border: none;\n",
              "      border-radius: 50%;\n",
              "      cursor: pointer;\n",
              "      display: none;\n",
              "      fill: #1967D2;\n",
              "      height: 32px;\n",
              "      padding: 0 0 0 0;\n",
              "      width: 32px;\n",
              "    }\n",
              "\n",
              "    .colab-df-convert:hover {\n",
              "      background-color: #E2EBFA;\n",
              "      box-shadow: 0px 1px 2px rgba(60, 64, 67, 0.3), 0px 1px 3px 1px rgba(60, 64, 67, 0.15);\n",
              "      fill: #174EA6;\n",
              "    }\n",
              "\n",
              "    [theme=dark] .colab-df-convert {\n",
              "      background-color: #3B4455;\n",
              "      fill: #D2E3FC;\n",
              "    }\n",
              "\n",
              "    [theme=dark] .colab-df-convert:hover {\n",
              "      background-color: #434B5C;\n",
              "      box-shadow: 0px 1px 3px 1px rgba(0, 0, 0, 0.15);\n",
              "      filter: drop-shadow(0px 1px 2px rgba(0, 0, 0, 0.3));\n",
              "      fill: #FFFFFF;\n",
              "    }\n",
              "  </style>\n",
              "\n",
              "      <script>\n",
              "        const buttonEl =\n",
              "          document.querySelector('#df-23a7b2a4-9caf-4f11-adfd-ead2f351d676 button.colab-df-convert');\n",
              "        buttonEl.style.display =\n",
              "          google.colab.kernel.accessAllowed ? 'block' : 'none';\n",
              "\n",
              "        async function convertToInteractive(key) {\n",
              "          const element = document.querySelector('#df-23a7b2a4-9caf-4f11-adfd-ead2f351d676');\n",
              "          const dataTable =\n",
              "            await google.colab.kernel.invokeFunction('convertToInteractive',\n",
              "                                                     [key], {});\n",
              "          if (!dataTable) return;\n",
              "\n",
              "          const docLinkHtml = 'Like what you see? Visit the ' +\n",
              "            '<a target=\"_blank\" href=https://colab.research.google.com/notebooks/data_table.ipynb>data table notebook</a>'\n",
              "            + ' to learn more about interactive tables.';\n",
              "          element.innerHTML = '';\n",
              "          dataTable['output_type'] = 'display_data';\n",
              "          await google.colab.output.renderOutput(dataTable, element);\n",
              "          const docLink = document.createElement('div');\n",
              "          docLink.innerHTML = docLinkHtml;\n",
              "          element.appendChild(docLink);\n",
              "        }\n",
              "      </script>\n",
              "    </div>\n",
              "  </div>\n",
              "  "
            ]
          },
          "metadata": {},
          "execution_count": 1
        }
      ]
    },
    {
      "cell_type": "code",
      "source": [
        "# TensorFlow と tf.keras のインポート\n",
        "import tensorflow as tf\n",
        "from tensorflow import keras\n",
        "\n",
        "# ヘルパーライブラリのインポート\n",
        "import numpy as np\n",
        "import matplotlib.pyplot as plt\n",
        "\n",
        "import base64\n",
        "from sklearn.model_selection import train_test_split"
      ],
      "metadata": {
        "id": "QkClBLRCcg4d"
      },
      "execution_count": null,
      "outputs": []
    },
    {
      "cell_type": "code",
      "source": [
        "class_names = sorted(df['size'].unique().tolist())\n",
        "weight = {i: 1 - (j / len(df)) for i, j in df['size'].value_counts().items()}\n",
        "weights = {idx: weight[c] for idx, c in enumerate(class_names)}\n",
        "\n",
        "df['size'] = [class_names.index(x) for x in df['size']]\n",
        "df['data'] = [base64.b64decode(d.encode()) for d in df['data']]\n",
        "DATASET_SIZE = len(df)"
      ],
      "metadata": {
        "id": "1kfrXa3wvhZY"
      },
      "execution_count": null,
      "outputs": []
    },
    {
      "cell_type": "code",
      "source": [
        "\n",
        "df_train, df_test = train_test_split(df, test_size=0.1, random_state=10101, stratify=df['size'])\n",
        "df_train, df_valid = train_test_split(df_train, test_size=0.1, random_state=10101, stratify=df_train['size'])\n",
        "\n",
        "train_source = df_train.pop('data')\n",
        "train_target = df_train.pop('size')\n",
        "train_dataset = tf.data.Dataset.from_tensor_slices((train_source, train_target.values))\n",
        "\n",
        "test_source = df_test.pop('data')\n",
        "test_target = df_test.pop('size')\n",
        "test_dataset = tf.data.Dataset.from_tensor_slices((test_source, test_target.values))\n",
        "\n",
        "valid_source = df_valid.pop('data')\n",
        "valid_target = df_valid.pop('size')\n",
        "valid_dataset = tf.data.Dataset.from_tensor_slices((valid_source, valid_target.values))"
      ],
      "metadata": {
        "id": "Tnsrwx_qvaTD"
      },
      "execution_count": null,
      "outputs": []
    },
    {
      "cell_type": "code",
      "source": [
        "def decode_data(data, target):\n",
        "  image = tf.image.decode_jpeg(data, channels=3)\n",
        "  image = tf.image.resize(image, [60, 60])\n",
        "  image /= 255.0  # normalize to [0,1] range\n",
        "  return image, target"
      ],
      "metadata": {
        "id": "TP91mBv5wQA2"
      },
      "execution_count": null,
      "outputs": []
    },
    {
      "cell_type": "code",
      "source": [
        "train_dataset = train_dataset.map(decode_data, num_parallel_calls=tf.data.AUTOTUNE).shuffle(10).batch(12)\n",
        "test_dataset = test_dataset.map(decode_data, num_parallel_calls=tf.data.AUTOTUNE).shuffle(10).batch(12)\n",
        "valid_dataset = valid_dataset.map(decode_data, num_parallel_calls=tf.data.AUTOTUNE).shuffle(10).batch(12)"
      ],
      "metadata": {
        "id": "VLNir12pc2D8"
      },
      "execution_count": null,
      "outputs": []
    },
    {
      "cell_type": "code",
      "source": [
        "data_augmentation = tf.keras.Sequential([\n",
        "  tf.keras.layers.experimental.preprocessing.RandomFlip(\"horizontal_and_vertical\"),\n",
        "  tf.keras.layers.experimental.preprocessing.RandomRotation(0.4,fill_mode = 'reflect'),\n",
        "  tf.keras.layers.experimental.preprocessing.RandomZoom(height_factor=0.2, fill_mode =  'reflect'),\n",
        "  tf.keras.layers.experimental.preprocessing.RandomTranslation(height_factor=0.2, width_factor=0.2, fill_mode=\"reflect\"),\n",
        "  tf.keras.layers.experimental.preprocessing.RandomContrast(factor=0.2),\n",
        "  tf.keras.layers.experimental.preprocessing.RandomHeight(factor=0.2),\n",
        "  tf.keras.layers.experimental.preprocessing.RandomWidth(factor=0.2)\n",
        "])"
      ],
      "metadata": {
        "id": "M4C1NGg4tz03"
      },
      "execution_count": null,
      "outputs": []
    },
    {
      "cell_type": "code",
      "source": [
        "train_dataset = train_dataset.map(lambda x, y: (data_augmentation(x, training=True), y), \n",
        "                num_parallel_calls=tf.data.AUTOTUNE)"
      ],
      "metadata": {
        "id": "weZgC6-c1nNv"
      },
      "execution_count": null,
      "outputs": []
    },
    {
      "cell_type": "code",
      "source": [
        "efn2 = tf.keras.applications.EfficientNetV2B0(input_shape=(60, 60, 3), include_top=False)\n",
        "\n",
        "model = tf.keras.Sequential([\n",
        "    efn2,\n",
        "    tf.keras.layers.GlobalAveragePooling2D(),\n",
        "    tf.keras.layers.Dense(len(class_names))])\n",
        "\n",
        "model.compile(optimizer=tf.keras.optimizers.Adam(1e-4), \n",
        "              loss='sparse_categorical_crossentropy', \n",
        "              metrics=['accuracy'])\n",
        "model.summary()"
      ],
      "metadata": {
        "colab": {
          "base_uri": "https://localhost:8080/"
        },
        "id": "rzBZHeUG1zjf",
        "outputId": "76686e53-b2c7-4706-f406-ebeef8ef267f"
      },
      "execution_count": null,
      "outputs": [
        {
          "output_type": "stream",
          "name": "stdout",
          "text": [
            "Model: \"sequential_1\"\n",
            "_________________________________________________________________\n",
            " Layer (type)                Output Shape              Param #   \n",
            "=================================================================\n",
            " efficientnetv2-b0 (Function  (None, 2, 2, 1280)       5919312   \n",
            " al)                                                             \n",
            "                                                                 \n",
            " global_average_pooling2d (G  (None, 1280)             0         \n",
            " lobalAveragePooling2D)                                          \n",
            "                                                                 \n",
            " dense (Dense)               (None, 8)                 10248     \n",
            "                                                                 \n",
            "=================================================================\n",
            "Total params: 5,929,560\n",
            "Trainable params: 5,868,952\n",
            "Non-trainable params: 60,608\n",
            "_________________________________________________________________\n"
          ]
        }
      ]
    },
    {
      "cell_type": "code",
      "source": [
        "epochs=50\n",
        "history = model.fit(\n",
        "  train_dataset,\n",
        "  validation_data=valid_dataset,\n",
        "  epochs=epochs,\n",
        "  class_weight=weights\n",
        ")"
      ],
      "metadata": {
        "colab": {
          "base_uri": "https://localhost:8080/"
        },
        "id": "Y2I8z-sd2YGP",
        "outputId": "fa4b67d8-3baf-470b-ba96-8bb8a3218f64"
      },
      "execution_count": null,
      "outputs": [
        {
          "output_type": "stream",
          "name": "stdout",
          "text": [
            "Epoch 1/50\n",
            "70/70 [==============================] - 27s 208ms/step - loss: 7.6094 - accuracy: 0.1166 - val_loss: 9.5646 - val_accuracy: 0.0860\n",
            "Epoch 2/50\n",
            "70/70 [==============================] - 8s 113ms/step - loss: 7.4864 - accuracy: 0.1382 - val_loss: 9.3980 - val_accuracy: 0.0753\n",
            "Epoch 3/50\n",
            "70/70 [==============================] - 6s 87ms/step - loss: 7.3509 - accuracy: 0.1370 - val_loss: 6.0393 - val_accuracy: 0.1398\n",
            "Epoch 4/50\n",
            "70/70 [==============================] - 5s 75ms/step - loss: 7.1559 - accuracy: 0.1575 - val_loss: 9.3882 - val_accuracy: 0.1935\n",
            "Epoch 5/50\n",
            "70/70 [==============================] - 5s 72ms/step - loss: 7.0673 - accuracy: 0.1502 - val_loss: 12.4752 - val_accuracy: 0.0323\n",
            "Epoch 6/50\n",
            "70/70 [==============================] - 5s 66ms/step - loss: 6.8182 - accuracy: 0.1851 - val_loss: 12.0277 - val_accuracy: 0.0323\n",
            "Epoch 7/50\n",
            "70/70 [==============================] - 4s 60ms/step - loss: 6.9859 - accuracy: 0.1683 - val_loss: 9.6479 - val_accuracy: 0.0645\n",
            "Epoch 8/50\n",
            "70/70 [==============================] - 5s 65ms/step - loss: 6.8458 - accuracy: 0.1647 - val_loss: 11.2532 - val_accuracy: 0.1183\n",
            "Epoch 9/50\n",
            "70/70 [==============================] - 5s 70ms/step - loss: 6.7095 - accuracy: 0.1731 - val_loss: 11.5703 - val_accuracy: 0.1398\n",
            "Epoch 10/50\n",
            "70/70 [==============================] - 4s 62ms/step - loss: 6.2197 - accuracy: 0.1538 - val_loss: 10.3353 - val_accuracy: 0.0538\n",
            "Epoch 11/50\n",
            "70/70 [==============================] - 4s 64ms/step - loss: 6.3764 - accuracy: 0.1659 - val_loss: 10.2620 - val_accuracy: 0.0323\n",
            "Epoch 12/50\n",
            "70/70 [==============================] - 4s 57ms/step - loss: 5.9051 - accuracy: 0.1755 - val_loss: 10.6408 - val_accuracy: 0.0860\n",
            "Epoch 13/50\n",
            "70/70 [==============================] - 5s 73ms/step - loss: 5.8074 - accuracy: 0.1875 - val_loss: 10.6684 - val_accuracy: 0.0430\n",
            "Epoch 14/50\n",
            "70/70 [==============================] - 4s 57ms/step - loss: 5.5725 - accuracy: 0.1815 - val_loss: 9.4928 - val_accuracy: 0.1505\n",
            "Epoch 15/50\n",
            "70/70 [==============================] - 4s 59ms/step - loss: 5.6231 - accuracy: 0.1466 - val_loss: 11.2222 - val_accuracy: 0.0860\n",
            "Epoch 16/50\n",
            "70/70 [==============================] - 8s 122ms/step - loss: 5.0287 - accuracy: 0.1791 - val_loss: 11.1946 - val_accuracy: 0.0323\n",
            "Epoch 17/50\n",
            "70/70 [==============================] - 4s 58ms/step - loss: 4.8768 - accuracy: 0.1502 - val_loss: 13.1043 - val_accuracy: 0.0108\n",
            "Epoch 18/50\n",
            "70/70 [==============================] - 4s 58ms/step - loss: 4.2492 - accuracy: 0.1899 - val_loss: 12.5221 - val_accuracy: 0.0645\n",
            "Epoch 19/50\n",
            "70/70 [==============================] - 4s 59ms/step - loss: 4.6885 - accuracy: 0.1815 - val_loss: 11.1454 - val_accuracy: 0.0753\n",
            "Epoch 20/50\n",
            "70/70 [==============================] - 4s 58ms/step - loss: 4.0585 - accuracy: 0.1635 - val_loss: 12.9056 - val_accuracy: 0.0323\n",
            "Epoch 21/50\n",
            "70/70 [==============================] - 4s 56ms/step - loss: 4.0400 - accuracy: 0.1526 - val_loss: 10.5628 - val_accuracy: 0.0108\n",
            "Epoch 22/50\n",
            "70/70 [==============================] - 4s 57ms/step - loss: 3.8752 - accuracy: 0.1707 - val_loss: 8.2446 - val_accuracy: 0.0645\n",
            "Epoch 23/50\n",
            "70/70 [==============================] - 4s 55ms/step - loss: 4.0301 - accuracy: 0.1454 - val_loss: 12.4503 - val_accuracy: 0.0538\n",
            "Epoch 24/50\n",
            "70/70 [==============================] - 4s 62ms/step - loss: 3.4764 - accuracy: 0.1731 - val_loss: 9.0896 - val_accuracy: 0.0430\n",
            "Epoch 25/50\n",
            "70/70 [==============================] - 5s 69ms/step - loss: 3.6579 - accuracy: 0.1635 - val_loss: 9.7064 - val_accuracy: 0.1075\n",
            "Epoch 26/50\n",
            "70/70 [==============================] - 4s 61ms/step - loss: 3.1951 - accuracy: 0.1803 - val_loss: 10.2831 - val_accuracy: 0.1398\n",
            "Epoch 27/50\n",
            "70/70 [==============================] - 4s 59ms/step - loss: 3.2241 - accuracy: 0.1466 - val_loss: 10.8935 - val_accuracy: 0.0645\n",
            "Epoch 28/50\n",
            "70/70 [==============================] - 4s 61ms/step - loss: 2.9205 - accuracy: 0.1611 - val_loss: 9.6881 - val_accuracy: 0.0645\n",
            "Epoch 29/50\n",
            "70/70 [==============================] - 4s 60ms/step - loss: 2.9420 - accuracy: 0.1394 - val_loss: 7.3806 - val_accuracy: 0.1290\n",
            "Epoch 30/50\n",
            "70/70 [==============================] - 4s 61ms/step - loss: 2.9400 - accuracy: 0.1587 - val_loss: 7.6939 - val_accuracy: 0.1505\n",
            "Epoch 31/50\n",
            "70/70 [==============================] - 4s 53ms/step - loss: 2.8031 - accuracy: 0.1635 - val_loss: 7.7290 - val_accuracy: 0.1720\n",
            "Epoch 32/50\n",
            "70/70 [==============================] - 4s 56ms/step - loss: 2.6981 - accuracy: 0.1635 - val_loss: 12.2109 - val_accuracy: 0.0645\n",
            "Epoch 33/50\n",
            "70/70 [==============================] - 4s 55ms/step - loss: 2.5925 - accuracy: 0.1743 - val_loss: 6.3193 - val_accuracy: 0.1290\n",
            "Epoch 34/50\n",
            "70/70 [==============================] - 4s 56ms/step - loss: 2.3986 - accuracy: 0.1659 - val_loss: 8.3782 - val_accuracy: 0.0215\n",
            "Epoch 35/50\n",
            "70/70 [==============================] - 4s 54ms/step - loss: 2.3572 - accuracy: 0.1514 - val_loss: 4.1880 - val_accuracy: 0.1183\n",
            "Epoch 36/50\n",
            "70/70 [==============================] - 4s 53ms/step - loss: 2.3662 - accuracy: 0.1791 - val_loss: 4.7761 - val_accuracy: 0.1828\n",
            "Epoch 37/50\n",
            "70/70 [==============================] - 4s 55ms/step - loss: 2.3691 - accuracy: 0.1731 - val_loss: 4.5093 - val_accuracy: 0.1398\n",
            "Epoch 38/50\n",
            "70/70 [==============================] - 4s 54ms/step - loss: 2.5035 - accuracy: 0.1406 - val_loss: 10.1016 - val_accuracy: 0.0645\n",
            "Epoch 39/50\n",
            "70/70 [==============================] - 4s 62ms/step - loss: 2.4455 - accuracy: 0.1430 - val_loss: 7.9740 - val_accuracy: 0.1613\n",
            "Epoch 40/50\n",
            "70/70 [==============================] - 4s 56ms/step - loss: 2.2538 - accuracy: 0.1743 - val_loss: 4.1326 - val_accuracy: 0.1075\n",
            "Epoch 41/50\n",
            "70/70 [==============================] - 4s 58ms/step - loss: 2.2660 - accuracy: 0.1755 - val_loss: 6.1068 - val_accuracy: 0.1398\n",
            "Epoch 42/50\n",
            "70/70 [==============================] - 4s 56ms/step - loss: 2.1971 - accuracy: 0.1779 - val_loss: 3.1144 - val_accuracy: 0.1398\n",
            "Epoch 43/50\n",
            "70/70 [==============================] - 4s 55ms/step - loss: 2.2556 - accuracy: 0.1526 - val_loss: 8.5520 - val_accuracy: 0.1290\n",
            "Epoch 44/50\n",
            "70/70 [==============================] - 4s 58ms/step - loss: 2.1880 - accuracy: 0.1743 - val_loss: 5.4066 - val_accuracy: 0.0968\n",
            "Epoch 45/50\n",
            "70/70 [==============================] - 4s 56ms/step - loss: 2.3390 - accuracy: 0.1731 - val_loss: 8.4952 - val_accuracy: 0.0860\n",
            "Epoch 46/50\n",
            "70/70 [==============================] - 4s 59ms/step - loss: 2.3294 - accuracy: 0.1550 - val_loss: 8.0650 - val_accuracy: 0.1720\n",
            "Epoch 47/50\n",
            "70/70 [==============================] - 5s 68ms/step - loss: 2.1670 - accuracy: 0.1719 - val_loss: 4.8809 - val_accuracy: 0.1183\n",
            "Epoch 48/50\n",
            "70/70 [==============================] - 4s 56ms/step - loss: 2.2874 - accuracy: 0.1731 - val_loss: 9.6064 - val_accuracy: 0.0753\n",
            "Epoch 49/50\n",
            "70/70 [==============================] - 4s 58ms/step - loss: 2.2156 - accuracy: 0.1370 - val_loss: 7.0969 - val_accuracy: 0.0538\n",
            "Epoch 50/50\n",
            "70/70 [==============================] - 4s 54ms/step - loss: 2.1058 - accuracy: 0.1599 - val_loss: 9.4787 - val_accuracy: 0.0968\n"
          ]
        }
      ]
    },
    {
      "cell_type": "code",
      "source": [
        ""
      ],
      "metadata": {
        "id": "mHwWF_op_MjS"
      },
      "execution_count": null,
      "outputs": []
    }
  ]
}